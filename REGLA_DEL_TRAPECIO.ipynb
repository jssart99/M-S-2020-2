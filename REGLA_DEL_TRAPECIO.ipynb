{
  "nbformat": 4,
  "nbformat_minor": 0,
  "metadata": {
    "colab": {
      "name": "REGLA DEL TRAPECIO.ipynb",
      "provenance": [],
      "authorship_tag": "ABX9TyNCXiUr3nX3uqsqIvVITvCj",
      "include_colab_link": true
    },
    "kernelspec": {
      "name": "python3",
      "display_name": "Python 3"
    }
  },
  "cells": [
    {
      "cell_type": "markdown",
      "metadata": {
        "id": "view-in-github",
        "colab_type": "text"
      },
      "source": [
        "<a href=\"https://colab.research.google.com/github/jssart99/M-S-2020-2/blob/master/REGLA_DEL_TRAPECIO.ipynb\" target=\"_parent\"><img src=\"https://colab.research.google.com/assets/colab-badge.svg\" alt=\"Open In Colab\"/></a>"
      ]
    },
    {
      "cell_type": "markdown",
      "metadata": {
        "id": "25laNMUY6djT"
      },
      "source": [
        "**REGLA DEL TRAPECIO**\n",
        "\n",
        "La regla del trapecio es un método de integración, se basa en aproximar el valor de la integral de $f(x)$ por el de la función lineal, que pasa a través de los puntos ***a*** ----> $f(a)$ y ***b*** ----> $f(b)$. La integral de ésta es aproximadamente igual al área del trapecio bajo la gráfica de la función lineal.\n",
        "\n",
        "\n",
        "**REGLA DEL TRAPECIO SIMPLE**\n",
        "\n",
        "Se hace con un sólo trapecio entre a y b\n",
        "\n",
        "$\\int_{a}^{b} f(x) \\, dx \\simeq (b-a)\\frac{f(a)+f(b)}{2}$\n",
        "\n",
        "**REGLA DEL TRAPECIO COMPUESTA**\n",
        "\n",
        "Se hace la aproximación utilizando n trapecios. En la formulación de este método se supone que f es continua y positiva en el intervalo $[a,b]$. De tal modo la integral definida\n",
        "\n",
        "$\\int_{a}^{b} f(x) \\, dx$\n",
        "\n",
        "representa el área de la región delimitada por la gráfica de $f$ y el eje $x$, desde $x=a$ hasta $x=b$. Primero se divide el intervalo $[a,b]$ en n subintervalos, cada uno de ancho \n",
        "\n",
        "$\\Delta x\\, = (b-a)/n$\n",
        "\n",
        "$\\int_{a}^{b} f(x) \\, dx \\simeq \\frac{(b-a)}{n}[\\frac{f(a)+f(b)}{2}+\\sum_{k=1}^{n-1}f(a+k\\frac{b-a}{n})]$"
      ]
    },
    {
      "cell_type": "code",
      "metadata": {
        "id": "X4ZeqEsy6vAz"
      },
      "source": [
        "import numpy as np\n",
        "import matplotlib.pyplot as plt\n",
        "from scipy.integrate import odeint"
      ],
      "execution_count": 1,
      "outputs": []
    },
    {
      "cell_type": "code",
      "metadata": {
        "id": "8-xKRCiDCNiQ"
      },
      "source": [
        "def f(x):\n",
        "  y=x**3\n",
        "  return y\n",
        "\n",
        "def AT(a,b,n):\n",
        "  k=1\n",
        "  h=(b-a)/n\n",
        "  I1=h*((f(a)+f(b))/2)\n",
        "  I2=0\n",
        "  while k <=n-1:\n",
        "    x=a+k*h\n",
        "    y=f(x)\n",
        "    I2+=h*y\n",
        "    k+=1\n",
        "  I=I1+I2\n",
        "  return I"
      ],
      "execution_count": 2,
      "outputs": []
    },
    {
      "cell_type": "code",
      "metadata": {
        "id": "DH4XlYW_Cfnj",
        "colab": {
          "base_uri": "https://localhost:8080/",
          "height": 292
        },
        "outputId": "f18e2af2-728a-48a3-870f-a0fc1ce9c534"
      },
      "source": [
        "a=0\n",
        "b=1\n",
        "n=5\n",
        "j=AT(a,b,n)\n",
        "x=np.linspace(a,b)\n",
        "x1=np.linspace(a,b,n)\n",
        "y=f(x)\n",
        "y1=f(x1)\n",
        "print(j)\n",
        "\n",
        "fig=plt.figure()\n",
        "ax=fig.add_subplot(1,1,1)\n",
        "\n",
        "ax.spines['left'].set_position(('data',0.0))\n",
        "ax.spines['bottom'].set_position(('data',0.0))\n",
        "ax.spines['top'].set_color('none')\n",
        "ax.spines['right'].set_color('none')\n",
        "\n",
        "plt.plot(x,y)\n",
        "plt.plot(x1,y1,'-o')"
      ],
      "execution_count": 3,
      "outputs": [
        {
          "output_type": "stream",
          "text": [
            "0.26000000000000006\n"
          ],
          "name": "stdout"
        },
        {
          "output_type": "execute_result",
          "data": {
            "text/plain": [
              "[<matplotlib.lines.Line2D at 0x7fcce643fcc0>]"
            ]
          },
          "metadata": {
            "tags": []
          },
          "execution_count": 3
        },
        {
          "output_type": "display_data",
          "data": {
            "image/png": "[encoded data removed]",
            "text/plain": [
              "<Figure size 432x288 with 1 Axes>"
            ]
          },
          "metadata": {
            "tags": [],
            "needs_background": "light"
          }
        }
      ]
    },
    {
      "cell_type": "markdown",
      "metadata": {
        "id": "SsLllxvKmm5X"
      },
      "source": [
        "**Regla Trapezoidal (Ecuaciones Diferenciales)**\n",
        "\n",
        "La regla trapezoidal es un método numérico de resolución de ecuaciones diferenciales ordinarias derivado de la regla del trapecio para calcular integrales. Es un método implícito de segundo orden.\n",
        "\n",
        "$y'=f(t,y)$\n",
        "\n",
        "$y_{n+1}=y_n+\\frac{h}{2}(f(t_n,y_n)+f(t_{n+1},y_{n+1}))$\n",
        "\n",
        "$h=\\Delta{t}=t_{n+1}-t_n$\n",
        "\n",
        "Este es un método implícito: el valor $y_{n+1}$ aparece en ambos lados de la ecuación, y para calcularlo realmente, hay que resolver una ecuación que será generalmente no lineal. Un método posible para resolver esta ecuación es el método de Newton.\n",
        "\n",
        "$y_{n+1}=y_n-\\frac{f(x_n)}{f'(x_n)}$"
      ]
    },
    {
      "cell_type": "code",
      "metadata": {
        "id": "f-0LmbmIl7rG",
        "colab": {
          "base_uri": "https://localhost:8080/",
          "height": 276
        },
        "outputId": "54f11a8f-0be0-4c55-c63f-69a632d250f9"
      },
      "source": [
        "def g(x,t):\n",
        "  g = 4*x-t\n",
        "  return g\n",
        "\n",
        "def MNR(g,x0,h,ts,t0,tol,itermax):\n",
        "  E = 1\n",
        "  x = x0\n",
        "  Xant = x0\n",
        "  t = t0\n",
        "  i = 0\n",
        "  F = lambda Xv: Xv - Xant - (h/2)*(g(Xant,t)+g(Xv,ts))\n",
        "  while E > tol and i < itermax:\n",
        "    xs = x - F(x)/((F(x+0.000001)-F(x))/(0.000001))\n",
        "    E=np.abs((xs - x)/(xs))\n",
        "    i += 1\n",
        "    x = xs\n",
        "  return x\n",
        "\n",
        "def MEE(g,h,tspan,x0):\n",
        "  X = []\n",
        "  X.append(x0)\n",
        "  for n in range(0,len(tspan)-1):\n",
        "    xs=X[n] + h*g(X[n],tspan[n])\n",
        "    X.append(xs)\n",
        "\n",
        "  return tspan, X\n",
        "\n",
        "def MRK4(g,h,tspan,x0):\n",
        "  X=[]\n",
        "  X.append(x0)\n",
        "  for n in range(0,len(tspan)-1):\n",
        "    k1 = g(X[n],tspan[n])\n",
        "    k2 = g(X[n] + (k1*h/2),tspan[n] + h/2)\n",
        "    k3 = g(X[n] + (k2*h/2),tspan[n] + h/2)\n",
        "    k4 = g(X[n] + k3*h,tspan[n] + h)\n",
        "    xs = X[n] + (h/6)*(k1 + 2*k2 + 2*k3 +k4)\n",
        "    X.append(xs)\n",
        "\n",
        "  return tspan, X\n",
        "\n",
        "def MTE(g,h,tspan,x0):\n",
        "  X = []\n",
        "  X.append(x0)\n",
        "  for n in range(0,len(tspan)-1):\n",
        "    xs=MNR(g,X[n],h,tspan[n+1],tspan[n],1e-7,1000)\n",
        "    X.append(xs)\n",
        "  return tspan, X\n",
        "\n",
        "def main():\n",
        "  h=0.1\n",
        "  tspan = np.arange(0,4,h)\n",
        "  tspanR = np.arange(0,4,0.0001)\n",
        "  x0 = -1\n",
        "\n",
        "  tspan1, X1 = MTE(g,h,tspan,x0)\n",
        "  tspan2, X2 = MEE(g,h,tspan,x0)\n",
        "  tspan3, X3 = MRK4(g,h,tspan,x0)\n",
        "\n",
        "  y = odeint(g,x0,tspanR)\n",
        "\n",
        "  plt.plot(tspan1,X1,'-o',label='Trapezoidal')\n",
        "  plt.plot(tspan2,X2,'-*',label='Euler')\n",
        "  plt.plot(tspan3,X3,'-^k',label='Runge-Kutta')\n",
        "  plt.plot(tspanR,y,'-.',label='odeint')\n",
        "  plt.legend()\n",
        "  plt.grid()\n",
        "  plt.show()\n",
        "\n",
        "main()\n"
      ],
      "execution_count": 23,
      "outputs": [
        {
          "output_type": "display_data",
          "data": {
            "image/png": "[encoded data removed]",
            "text/plain": [
              "<Figure size 432x288 with 1 Axes>"
            ]
          },
          "metadata": {
            "tags": [],
            "needs_background": "light"
          }
        }
      ]
    }
  ]
}
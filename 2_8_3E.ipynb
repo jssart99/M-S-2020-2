{
  "nbformat": 4,
  "nbformat_minor": 0,
  "metadata": {
    "colab": {
      "name": "2.8.3E.ipynb",
      "provenance": [],
      "authorship_tag": "ABX9TyMjJWBQ17T+ZzBuc4jkt+su",
      "include_colab_link": true
    },
    "kernelspec": {
      "name": "python3",
      "display_name": "Python 3"
    }
  },
  "cells": [
    {
      "cell_type": "markdown",
      "metadata": {
        "id": "view-in-github",
        "colab_type": "text"
      },
      "source": [
        "<a href=\"https://colab.research.google.com/github/jssart99/M-S-2020-2/blob/master/2_8_3E.ipynb\" target=\"_parent\"><img src=\"https://colab.research.google.com/assets/colab-badge.svg\" alt=\"Open In Colab\"/></a>"
      ]
    },
    {
      "cell_type": "markdown",
      "metadata": {
        "id": "10eANcNHeCv3"
      },
      "source": [
        "2.8.3"
      ]
    },
    {
      "cell_type": "code",
      "metadata": {
        "id": "J-YkvubNeESP"
      },
      "source": [
        "import numpy as np\n",
        "import matplotlib.pyplot as plt"
      ],
      "execution_count": 1,
      "outputs": []
    },
    {
      "cell_type": "code",
      "metadata": {
        "id": "OSa73UhGeOL4"
      },
      "source": [
        "def f(t, x):\n",
        "    x_dot=-x\n",
        "    return x_dot\n",
        "\n",
        "def euler( h, ti, tf, x0):\n",
        "    ti=ti \n",
        "    xi=x0\n",
        "  \n",
        "    x = list()\n",
        "    t = list()\n",
        "  \n",
        "    while ( ti <= tf ):\n",
        "    \n",
        "      x.append (xi)\n",
        "      t.append (ti)\n",
        "  \n",
        "      xi=xi + h*f(ti,xi)\n",
        "      ti=ti + h\n",
        "    return t, x   "
      ],
      "execution_count": 2,
      "outputs": []
    },
    {
      "cell_type": "code",
      "metadata": {
        "id": "2xkq4IH6eQz6",
        "outputId": "a8153f00-85a1-48aa-8817-caf981cf68ae",
        "colab": {
          "base_uri": "https://localhost:8080/",
          "height": 387
        }
      },
      "source": [
        "ti=0\n",
        "tf=1\n",
        "x0=1\n",
        "x1=list()\n",
        "h1=list()\n",
        "\n",
        "for n in [0,1,2,3,4]:\n",
        "    h=10**-n\n",
        "    t,x = euler( h, ti, tf, x0)\n",
        "    x1.append(x[-1])\n",
        "    h1.append(h)\n",
        "for i in [0,1,2,3,4]:\n",
        "  print('n=',i,', x(1)=',x1[i])\n",
        "\n",
        "E=abs(x1-np.exp(-1))\n",
        "plt.plot(h1,E)\n",
        "plt.title('h vs E')\n",
        "plt.xlabel('h')\n",
        "plt.ylabel('E')\n",
        "plt.xlim(0,1)\n",
        "plt.ylim(0,E[0])\n",
        "plt.grid()"
      ],
      "execution_count": 4,
      "outputs": [
        {
          "output_type": "stream",
          "text": [
            "n= 0 , x(1)= 0\n",
            "n= 1 , x(1)= 0.3486784401\n",
            "n= 2 , x(1)= 0.3697296376497269\n",
            "n= 3 , x(1)= 0.36806348825922297\n",
            "n= 4 , x(1)= 0.36786104643292905\n"
          ],
          "name": "stdout"
        },
        {
          "output_type": "display_data",
          "data": {
            "image/png": "[encoded data removed]",
            "text/plain": [
              "<Figure size 432x288 with 1 Axes>"
            ]
          },
          "metadata": {
            "tags": [],
            "needs_background": "light"
          }
        }
      ]
    }
  ]
}